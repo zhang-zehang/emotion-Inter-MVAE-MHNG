{
 "cells": [
  {
   "cell_type": "code",
   "execution_count": 5,
   "metadata": {},
   "outputs": [
    {
     "data": {
      "text/plain": [
       "array([-7.2621722e+02,  6.8541420e+01,  3.2933977e+00,  1.2205299e+01,\n",
       "        5.5102787e+00,  1.3667408e+01, -2.9838281e+00,  3.0980287e+00,\n",
       "       -3.3108134e+00, -1.5643848e+00, -7.8616524e+00, -2.1242826e+00,\n",
       "        2.8492031e+00,  0.0000000e+00, -4.9221899e-08,  0.0000000e+00,\n",
       "        0.0000000e+00,  0.0000000e+00,  1.2305475e-08,  1.2305475e-08,\n",
       "        0.0000000e+00,  1.5381844e-09, -6.1527374e-09,  0.0000000e+00,\n",
       "        3.0763687e-09,  3.0763687e-09, -3.0763687e-08,  2.1534582e-08,\n",
       "       -1.8458213e-08,  6.1527374e-09, -1.5381844e-09,  5.3836455e-09,\n",
       "        0.0000000e+00,  1.5381844e-09, -7.6909218e-10,  5.3836455e-09,\n",
       "        1.3074567e-08, -4.2300070e-09, -3.0763687e-09], dtype=float32)"
      ]
     },
     "execution_count": 5,
     "metadata": {},
     "output_type": "execute_result"
    }
   ],
   "source": [
    "import librosa\n",
    "import numpy as np\n",
    "\n",
    "def extract_mfcc_and_deltas(audio_file, n_mfcc=13):\n",
    "    y, sr = librosa.load(audio_file, sr=48000)\n",
    "    \n",
    "    # 计算 MFCCs\n",
    "    mfccs = librosa.feature.mfcc(y=y, sr=sr, n_mfcc=n_mfcc)\n",
    "    \n",
    "    # 计算 ΔMFCCs\n",
    "    mfcc_delta = librosa.feature.delta(mfccs)\n",
    "    \n",
    "    # 计算 ΔΔMFCCs\n",
    "    mfcc_delta2 = librosa.feature.delta(mfccs, order=2)\n",
    "    \n",
    "    # 将 MFCCs, ΔMFCCs 和 ΔΔMFCCs 连接起来，以形成一个特征向量\n",
    "    combined_features = np.concatenate((mfccs, mfcc_delta, mfcc_delta2), axis=0)\n",
    "    \n",
    "    return np.mean(combined_features, axis=1)\n",
    "\n",
    "# 使用这个函数为音频文件提取特征\n",
    "audio_file_path = \"/home/zhangzehang2/emotion/audio/Actor_01/03-01-01-01-01-01-01.wav\"\n",
    "features = extract_mfcc_and_deltas(audio_file_path)\n",
    "features"
   ]
  }
 ],
 "metadata": {
  "kernelspec": {
   "display_name": "Python 3",
   "language": "python",
   "name": "python3"
  },
  "language_info": {
   "codemirror_mode": {
    "name": "ipython",
    "version": 3
   },
   "file_extension": ".py",
   "mimetype": "text/x-python",
   "name": "python",
   "nbconvert_exporter": "python",
   "pygments_lexer": "ipython3",
   "version": "3.8.10"
  },
  "orig_nbformat": 4,
  "vscode": {
   "interpreter": {
    "hash": "916dbcbb3f70747c44a77c7bcd40155683ae19c65e1c03b4aa3499c5328201f1"
   }
  }
 },
 "nbformat": 4,
 "nbformat_minor": 2
}
