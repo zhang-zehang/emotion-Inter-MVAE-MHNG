{
 "cells": [
  {
   "cell_type": "code",
   "execution_count": null,
   "metadata": {},
   "outputs": [],
   "source": [
    "import os\n",
    "import subprocess\n",
    "\n",
    "# OpenFaceのFeatureExtractionのフルパス\n",
    "openface_dir = \"/home/zhangzehang2/opencv-4.1.0/build/OpenFace/build/bin\"\n",
    "feature_extraction_path = os.path.join(openface_dir, \"FeatureExtraction\")\n",
    "\n",
    "# 入力ビデオが格納されているディレクトリと、出力CSVを保存するディレクトリのパス\n",
    "input_video_dir = \"/home/zhangzehang2/emotion/video/Actor_03/\"\n",
    "output_csv_dir = \"/home/zhangzehang2/emotion/video-csv/Actor_03/\"\n",
    "\n",
    "# 入力ディレクトリ内のすべてのビデオファイルを取得\n",
    "video_files = [f for f in os.listdir(input_video_dir) if f.endswith(('.mp4', '.avi', '.mov', '.mkv'))]  # 必要に応じて他のビデオフォーマットを追加\n",
    "\n",
    "# 各ビデオファイルに対してOpenFaceのFeatureExtractionを実行\n",
    "for video_file in video_files:\n",
    "    input_file_path = os.path.join(input_video_dir, video_file)\n",
    "    output_file_prefix = os.path.join(output_csv_dir, video_file.split('.')[0])  # ファイル拡張子を除去\n",
    "\n",
    "    # FeatureExtractionコマンドを実行\n",
    "    command = f'{feature_extraction_path} -f \"{input_file_path}\" -of \"{output_file_prefix}\"'\n",
    "    subprocess.call(command, shell=True)\n",
    "\n",
    "print(\"All videos processed!\")\n",
    "\n",
    "\n",
    "\n"
   ]
  },
  {
   "cell_type": "code",
   "execution_count": 8,
   "metadata": {},
   "outputs": [
    {
     "name": "stdout",
     "output_type": "stream",
     "text": [
      "All CSVs processed!\n"
     ]
    }
   ],
   "source": [
    "import os\n",
    "import pandas as pd\n",
    "\n",
    "# 入力ディレクトリと出力ディレクトリの定義\n",
    "input_csv_dir = \"/home/zhangzehang2/emotion/video-csv/Actor_01/\"\n",
    "output_txt_dir = \"/home/zhangzehang2/emotion/video-txt/Actor_01/\"\n",
    "\n",
    "# AUs関連のカラムリスト\n",
    "au_columns = [\n",
    "    'AU01_r', 'AU02_r', 'AU04_r', 'AU05_r', 'AU06_r', 'AU07_r', 'AU09_r',\n",
    "    'AU10_r', 'AU12_r', 'AU14_r', 'AU15_r', 'AU17_r', 'AU20_r', 'AU23_r',\n",
    "    'AU25_r', 'AU26_r', 'AU45_r', 'AU01_c', 'AU02_c', 'AU04_c', 'AU05_c',\n",
    "    'AU06_c', 'AU07_c', 'AU09_c', 'AU10_c', 'AU12_c', 'AU14_c', 'AU15_c',\n",
    "    'AU17_c', 'AU20_c', 'AU23_c', 'AU25_c', 'AU26_c', 'AU28_c', 'AU45_c'\n",
    "]\n",
    "\n",
    "# 入力ディレクトリ内のCSVファイルを取得\n",
    "csv_files = [f for f in os.listdir(input_csv_dir) if f.endswith('.csv')]\n",
    "\n",
    "# 各CSVファイルに対して処理\n",
    "for csv_file in csv_files:\n",
    "    # CSV読み込み\n",
    "    file_path = os.path.join(input_csv_dir, csv_file)\n",
    "    df = pd.read_csv(file_path)\n",
    "    \n",
    "    # AUsカラムだけを抽出\n",
    "    df_au = df[au_columns]\n",
    "    \n",
    "    # TXTに保存\n",
    "    output_file = csv_file.replace('.csv', '.txt')\n",
    "    output_path = os.path.join(output_txt_dir, output_file)\n",
    "    df_au.to_csv(output_path, sep='\\t', index=False)\n",
    "\n",
    "print(\"All CSVs processed!\")\n"
   ]
  }
 ],
 "metadata": {
  "kernelspec": {
   "display_name": "Python 3",
   "language": "python",
   "name": "python3"
  },
  "language_info": {
   "codemirror_mode": {
    "name": "ipython",
    "version": 3
   },
   "file_extension": ".py",
   "mimetype": "text/x-python",
   "name": "python",
   "nbconvert_exporter": "python",
   "pygments_lexer": "ipython3",
   "version": "3.8.10"
  },
  "orig_nbformat": 4,
  "vscode": {
   "interpreter": {
    "hash": "916dbcbb3f70747c44a77c7bcd40155683ae19c65e1c03b4aa3499c5328201f1"
   }
  }
 },
 "nbformat": 4,
 "nbformat_minor": 2
}
