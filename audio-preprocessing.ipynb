{
 "cells": [
  {
   "cell_type": "code",
   "execution_count": null,
   "metadata": {},
   "outputs": [],
   "source": [
    "import os\n",
    "import librosa\n",
    "import numpy as np\n",
    "\n",
    "def extract_mfcc_and_deltas(audio_file, n_mfcc=20):\n",
    "    y, sr = librosa.load(audio_file, sr=48000)\n",
    "    \n",
    "    # MFCCsの計算\n",
    "    mfccs = librosa.feature.mfcc(y=y, sr=sr, n_mfcc=n_mfcc)\n",
    "    \n",
    "    # ΔMFCCsの計算\n",
    "    mfcc_delta = librosa.feature.delta(mfccs)\n",
    "    \n",
    "    # ΔΔMFCCsの計算\n",
    "    mfcc_delta2 = librosa.feature.delta(mfccs, order=2)\n",
    "    \n",
    "    # MFCCs, ΔMFCCs, ΔΔMFCCs を連結して特徴ベクトルを形成\n",
    "    combined_features = np.concatenate((mfccs, mfcc_delta, mfcc_delta2), axis=0)\n",
    "    \n",
    "    return np.mean(combined_features, axis=1)\n",
    "\n",
    "def process_audio_files(input_audio_dir, output_txt_dir):\n",
    "    for filename in os.listdir(input_audio_dir):\n",
    "        if filename.endswith('.wav'):\n",
    "            file_path = os.path.join(input_audio_dir, filename)\n",
    "            features = extract_mfcc_and_deltas(file_path)\n",
    "            \n",
    "            # .wavファイル名を基に.txtファイル名を生成\n",
    "            output_filename = filename.replace('.wav', '.txt')\n",
    "            output_file_path = os.path.join(output_txt_dir, output_filename)\n",
    "            \n",
    "            # 特徴を個別の.txtファイルに保存\n",
    "            np.savetxt(output_file_path, features, delimiter=',')\n",
    "\n",
    "# 入力ディレクトリと出力ディレクトリのパス\n",
    "input_audio_dir = \"/home/zhangzehang2/emotion/audio/Actor_03/\"\n",
    "output_txt_dir = \"/home/zhangzehang2/emotion/audio-txt/Actor_03/\"\n",
    "\n",
    "process_audio_files(input_audio_dir, output_txt_dir)"
   ]
  }
 ],
 "metadata": {
  "kernelspec": {
   "display_name": "Python 3",
   "language": "python",
   "name": "python3"
  },
  "language_info": {
   "name": "python",
   "version": "3.8.10 (default, May 26 2023, 14:05:08) \n[GCC 9.4.0]"
  },
  "orig_nbformat": 4,
  "vscode": {
   "interpreter": {
    "hash": "916dbcbb3f70747c44a77c7bcd40155683ae19c65e1c03b4aa3499c5328201f1"
   }
  }
 },
 "nbformat": 4,
 "nbformat_minor": 2
}
