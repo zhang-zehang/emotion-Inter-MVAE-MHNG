{
 "cells": [
  {
   "cell_type": "code",
   "execution_count": 2,
   "metadata": {},
   "outputs": [],
   "source": [
    "import torch\n",
    "from torch.utils.data import Dataset, DataLoader\n",
    "import numpy as np\n",
    "import os\n",
    "from vae_audio import VAE,train\n",
    "# カスタムデータセット\n",
    "class AudioDataset(Dataset):\n",
    "    def __init__(self, txt_folder_path):\n",
    "        self.data = []\n",
    "        for txt_file in os.listdir(txt_folder_path):\n",
    "            if txt_file.endswith(\".txt\"):\n",
    "                with open(os.path.join(txt_folder_path, txt_file), 'r') as f:\n",
    "                    lines = f.readlines()\n",
    "                    video_data = []\n",
    "                    for line in lines:\n",
    "                        video_data.extend(list(map(float, line.strip().split())))\n",
    "                    self.data.append(video_data)\n",
    "        self.data = np.array(self.data)\n",
    "        \n",
    "    def __len__(self):\n",
    "        return len(self.data)\n",
    "    \n",
    "    def __getitem__(self, idx):\n",
    "        sample = self.data[idx]\n",
    "        sample_reshaped = np.reshape(sample, (60, 300))\n",
    "        return torch.tensor(sample_reshaped, dtype=torch.float32)\n",
    "\n",
    "\n",
    "# パスを設定してデータセットとデータローダを作成\n",
    "txt_folder_path = \"/home/zhangzehang2/emotion/audio-txt4/Male\"\n",
    "dataset1 = AudioDataset(txt_folder_path)\n",
    "dataloader1 = DataLoader(dataset1, batch_size=10, shuffle=True)\n",
    "\n",
    "# パスを設定してデータセットとデータローダを作成\n",
    "txt_folder_path = \"/home/zhangzehang2/emotion/audio-txt4/Female\"\n",
    "dataset2 = AudioDataset(txt_folder_path)\n",
    "dataloader2 = DataLoader(dataset2, batch_size=10, shuffle=True)"
   ]
  },
  {
   "cell_type": "code",
   "execution_count": 3,
   "metadata": {},
   "outputs": [
    {
     "name": "stdout",
     "output_type": "stream",
     "text": [
      "Male-audio-vae-loss\n",
      "Epoch 1/10, Loss: 0.9891\n",
      "Epoch 2/10, Loss: 0.9775\n",
      "Epoch 3/10, Loss: 0.9768\n",
      "Epoch 4/10, Loss: 0.9760\n",
      "Epoch 5/10, Loss: 0.9758\n",
      "Epoch 6/10, Loss: 0.9756\n",
      "Epoch 7/10, Loss: 0.9756\n",
      "Epoch 8/10, Loss: 0.9756\n",
      "Epoch 9/10, Loss: 0.9755\n",
      "Epoch 10/10, Loss: 0.9755\n",
      "Femle-audio-vae-loss\n",
      "Epoch 1/10, Loss: 1.1959\n",
      "Epoch 2/10, Loss: 1.1930\n",
      "Epoch 3/10, Loss: 1.1957\n",
      "Epoch 4/10, Loss: 1.1930\n",
      "Epoch 5/10, Loss: 1.1929\n",
      "Epoch 6/10, Loss: 1.1929\n",
      "Epoch 7/10, Loss: 1.1929\n",
      "Epoch 8/10, Loss: 1.1929\n",
      "Epoch 9/10, Loss: 1.1929\n",
      "Epoch 10/10, Loss: 1.1928\n"
     ]
    }
   ],
   "source": [
    "# 既に提供されているコードの上で以下を追加/変更\n",
    "\n",
    "# VAEのインスタンスを作成\n",
    "latent_dim = 8\n",
    "device = torch.device('cuda' if torch.cuda.is_available() else 'cpu')\n",
    "model = VAE(latent_dim, device).to(device)\n",
    "\n",
    "# トレーニングのハイパーパラメータを設定\n",
    "class Args:\n",
    "    latent_dim = latent_dim\n",
    "    batch_size = 10\n",
    "    variational_beta = 1\n",
    "\n",
    "args = Args()\n",
    "\n",
    "optimizer = torch.optim.Adam(model.parameters(), lr=0.0001)\n",
    "\n",
    "# トレーニングのエポック数\n",
    "num_epochs = 20\n",
    "\n",
    "print(\"Male-audio-vae-loss\")\n",
    "for epoch in range(num_epochs):\n",
    "    average_loss, _, _ = train(args, model, dataloader1, optimizer, device=device)\n",
    "    print(f\"Epoch {epoch+1}/{num_epochs}, Loss: {average_loss:.4f}\")\n",
    "\n",
    "print(\"Femle-audio-vae-loss\")\n",
    "for epoch in range(num_epochs):\n",
    "    average_loss, _, _ = train(args, model, dataloader2, optimizer, device=device)\n",
    "    print(f\"Epoch {epoch+1}/{num_epochs}, Loss: {average_loss:.4f}\")"
   ]
  }
 ],
 "metadata": {
  "kernelspec": {
   "display_name": "Python 3",
   "language": "python",
   "name": "python3"
  },
  "language_info": {
   "codemirror_mode": {
    "name": "ipython",
    "version": 3
   },
   "file_extension": ".py",
   "mimetype": "text/x-python",
   "name": "python",
   "nbconvert_exporter": "python",
   "pygments_lexer": "ipython3",
   "version": "3.8.10"
  },
  "orig_nbformat": 4,
  "vscode": {
   "interpreter": {
    "hash": "916dbcbb3f70747c44a77c7bcd40155683ae19c65e1c03b4aa3499c5328201f1"
   }
  }
 },
 "nbformat": 4,
 "nbformat_minor": 2
}
